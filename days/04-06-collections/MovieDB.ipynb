{
 "cells": [
  {
   "cell_type": "code",
   "execution_count": 1,
   "metadata": {},
   "outputs": [],
   "source": [
    "from  collections import defaultdict, namedtuple, Counter, deque, OrderedDict\n",
    "import csv\n",
    "import random\n",
    "from urllib.request import urlretrieve\n",
    "from pathlib import Path"
   ]
  },
  {
   "cell_type": "code",
   "execution_count": 2,
   "metadata": {},
   "outputs": [],
   "source": [
    "csvfile = Path('movie_metadata.csv')"
   ]
  },
  {
   "cell_type": "code",
   "execution_count": 3,
   "metadata": {},
   "outputs": [],
   "source": [
    "if not csvfile.exists():\n",
    "    url = r'https://raw.githubusercontent.com/sundeepblue/movie_rating_prediction/master/movie_metadata.csv'\n",
    "    (file, info) = urlretrieve(url, filename=csvfile)"
   ]
  },
  {
   "cell_type": "code",
   "execution_count": 42,
   "metadata": {},
   "outputs": [],
   "source": [
    "d = defaultdict(list)\n",
    "Movie = namedtuple('Movie', ['director','title','score','year'])\n",
    "with csvfile.open(newline='', encoding='utf-8') as data:\n",
    "    reader = csv.DictReader(data)\n",
    "    rows = 0\n",
    "    for row in reader:\n",
    "        try:\n",
    "            score = float(row['imdb_score'])\n",
    "            year = int(row['title_year'])\n",
    "        except ValueError:\n",
    "            score = 0.0\n",
    "        try:\n",
    "            year = int(row['title_year'])\n",
    "        except ValueError:\n",
    "            year = 0\n",
    "            \n",
    "        movie = Movie(director = row['director_name'],\n",
    "                      title = row['movie_title'],\n",
    "                      score = score,\n",
    "                      year = year)\n",
    "        if movie.year > 1970:\n",
    "            d[movie.director].append(movie)\n",
    "            rows += 1\n",
    "            if rows > 20: break\n"
   ]
  },
  {
   "cell_type": "code",
   "execution_count": null,
   "metadata": {},
   "outputs": [],
   "source": []
  }
 ],
 "metadata": {
  "kernelspec": {
   "display_name": "Python 3",
   "language": "python",
   "name": "python3"
  },
  "language_info": {
   "codemirror_mode": {
    "name": "ipython",
    "version": 3
   },
   "file_extension": ".py",
   "mimetype": "text/x-python",
   "name": "python",
   "nbconvert_exporter": "python",
   "pygments_lexer": "ipython3",
   "version": "3.7.0"
  }
 },
 "nbformat": 4,
 "nbformat_minor": 2
}
